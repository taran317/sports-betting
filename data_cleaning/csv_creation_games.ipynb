{
 "cells": [
  {
   "cell_type": "code",
   "execution_count": 16,
   "id": "874ebbb1",
   "metadata": {},
   "outputs": [],
   "source": [
    "import numpy as np\n",
    "import pandas as pd"
   ]
  },
  {
   "cell_type": "code",
   "execution_count": 17,
   "id": "9b7e2e8d",
   "metadata": {},
   "outputs": [
    {
     "data": {
      "text/plain": [
       "<bound method NDFrame.head of          game_id        book_name  book_id     team_id   a_team_id  \\\n",
       "0       41100314  Pinnacle Sports      238  1610612759  1610612760   \n",
       "1       41100314           5Dimes       19  1610612759  1610612760   \n",
       "2       41100314        Bookmaker       93  1610612759  1610612760   \n",
       "3       41100314        BetOnline     1096  1610612759  1610612760   \n",
       "4       41100314           Bovada   999996  1610612759  1610612760   \n",
       "...          ...              ...      ...         ...         ...   \n",
       "125281  41700215         Heritage      169  1610612755  1610612738   \n",
       "125282  41700215        Intertops      180  1610612755  1610612738   \n",
       "125283  41700215         YouWager      139  1610612755  1610612738   \n",
       "125284  41700215          JustBet     1275  1610612755  1610612738   \n",
       "125285  41700215    Sportsbetting   999991  1610612755  1610612738   \n",
       "\n",
       "        moneyline_price1  moneyline_price2  spread1  spread2  spread_price1  \\\n",
       "0                  165.0            -183.0      3.5     -3.5          103.0   \n",
       "1                  165.0            -175.0      3.5     -3.5         -101.0   \n",
       "2                  160.0            -190.0      3.5     -3.5         -110.0   \n",
       "3                  165.0            -190.0      3.5     -3.5         -105.0   \n",
       "4                  155.0            -175.0      4.0     -4.0         -115.0   \n",
       "...                  ...               ...      ...      ...            ...   \n",
       "125281             105.0            -125.0      1.5     -1.5         -105.0   \n",
       "125282             100.0            -120.0      1.5     -1.5         -110.0   \n",
       "125283             105.0            -125.0      1.5     -1.5         -110.0   \n",
       "125284             100.0            -120.0      1.5     -1.5         -110.0   \n",
       "125285             105.0            -125.0      1.5     -1.5         -110.0   \n",
       "\n",
       "        spread_price2  total1  total2  total_price1  total_price2  \n",
       "0              -111.0   201.5   201.5        -102.0        -108.0  \n",
       "1              -109.0   202.0   202.0        -101.0        -109.0  \n",
       "2              -110.0   202.0   202.0        -110.0        -110.0  \n",
       "3              -115.0   202.0   202.0        -110.0        -110.0  \n",
       "4              -105.0   203.0   203.0        -105.0        -115.0  \n",
       "...               ...     ...     ...           ...           ...  \n",
       "125281         -105.0   204.5   204.5        -105.0        -105.0  \n",
       "125282         -110.0   205.0   205.0        -110.0        -110.0  \n",
       "125283         -110.0   204.5   204.5        -110.0        -110.0  \n",
       "125284         -110.0   204.0   204.0        -110.0        -110.0  \n",
       "125285         -110.0   204.5   204.5        -110.0        -110.0  \n",
       "\n",
       "[125286 rows x 15 columns]>"
      ]
     },
     "execution_count": 17,
     "metadata": {},
     "output_type": "execute_result"
    }
   ],
   "source": [
    "df_betting = pd.read_csv('nba_betting.csv')\n",
    "df_betting.head"
   ]
  },
  {
   "cell_type": "code",
   "execution_count": 18,
   "id": "09e14c2c",
   "metadata": {},
   "outputs": [],
   "source": [
    "df_games = pd.read_csv('nba_games_all.csv')"
   ]
  },
  {
   "cell_type": "code",
   "execution_count": 19,
   "id": "e3fc1965",
   "metadata": {},
   "outputs": [
    {
     "data": {
      "text/plain": [
       "62812"
      ]
     },
     "execution_count": 19,
     "metadata": {},
     "output_type": "execute_result"
    }
   ],
   "source": [
    "df_games['game_id'].nunique()"
   ]
  },
  {
   "cell_type": "code",
   "execution_count": 20,
   "id": "7a459c69",
   "metadata": {},
   "outputs": [],
   "source": [
    "df_games = df_games.loc[df_games['game_id'].isin(df_betting['game_id'])]"
   ]
  },
  {
   "cell_type": "code",
   "execution_count": 21,
   "id": "10d4fe9c",
   "metadata": {},
   "outputs": [
    {
     "data": {
      "text/plain": [
       "<bound method NDFrame.head of          game_id   game_date      matchup     team_id is_home wl     w     l  \\\n",
       "0       20800741  2009-02-06  SAC vs. UTA  1610612762       f  W  29.0  22.0   \n",
       "1       20800701  2009-01-31  POR vs. UTA  1610612762       f  L  26.0  22.0   \n",
       "2       20800584  2009-01-16  MEM vs. UTA  1610612762       f  W  24.0  16.0   \n",
       "3       20800558  2009-01-12    IND @ UTA  1610612762       t  W  23.0  15.0   \n",
       "4       20800440  2008-12-27  HOU vs. UTA  1610612762       f  L  18.0  14.0   \n",
       "...          ...         ...          ...         ...     ... ..   ...   ...   \n",
       "125619  20801131  2009-04-03    MIN @ UTA  1610612762       t  L  46.0  30.0   \n",
       "125620  20801058  2009-03-24    HOU @ UTA  1610612762       t  W  44.0  26.0   \n",
       "125621  20801029  2009-03-20  OKC vs. UTA  1610612762       f  W  43.0  26.0   \n",
       "125622  20800839  2009-02-23    ATL @ UTA  1610612762       t  W  34.0  23.0   \n",
       "125623  20800810  2009-02-19    BOS @ UTA  1610612762       t  W  32.0  23.0   \n",
       "\n",
       "        w_pct  min  ...   ast   stl   blk   tov    pf  pts   a_team_id  \\\n",
       "0       0.569  240  ...  19.0   5.0   4.0  18.0  26.0  111  1610612758   \n",
       "1       0.542  240  ...  17.0   6.0   0.0  15.0  22.0  108  1610612757   \n",
       "2       0.600  240  ...  23.0   9.0   3.0  15.0  22.0  101  1610612763   \n",
       "3       0.605  240  ...  24.0  10.0   6.0   8.0  20.0  120  1610612754   \n",
       "4       0.563  290  ...  35.0  13.0   7.0   9.0  27.0  115  1610612745   \n",
       "...       ...  ...  ...   ...   ...   ...   ...   ...  ...         ...   \n",
       "125619  0.605  240  ...  22.0  11.0   4.0  10.0  16.0  102  1610612750   \n",
       "125620  0.629  240  ...  23.0   6.0  12.0   8.0  17.0   99  1610612745   \n",
       "125621  0.623  240  ...  24.0   8.0   3.0  10.0  13.0  101  1610612760   \n",
       "125622  0.596  240  ...  30.0  11.0   6.0  15.0  19.0  108  1610612737   \n",
       "125623  0.582  240  ...  16.0   7.0   6.0  11.0  18.0   90  1610612738   \n",
       "\n",
       "        season_year     season_type   season  \n",
       "0              2008  Regular Season  2008-09  \n",
       "1              2008  Regular Season  2008-09  \n",
       "2              2008  Regular Season  2008-09  \n",
       "3              2008  Regular Season  2008-09  \n",
       "4              2008  Regular Season  2008-09  \n",
       "...             ...             ...      ...  \n",
       "125619         2008  Regular Season  2008-09  \n",
       "125620         2008  Regular Season  2008-09  \n",
       "125621         2008  Regular Season  2008-09  \n",
       "125622         2008  Regular Season  2008-09  \n",
       "125623         2008  Regular Season  2008-09  \n",
       "\n",
       "[29812 rows x 32 columns]>"
      ]
     },
     "execution_count": 21,
     "metadata": {},
     "output_type": "execute_result"
    }
   ],
   "source": [
    "df_games.head"
   ]
  },
  {
   "cell_type": "code",
   "execution_count": 22,
   "id": "7e179932",
   "metadata": {},
   "outputs": [],
   "source": [
    "df_games.to_csv('nba_games.csv', index=False)"
   ]
  },
  {
   "cell_type": "code",
   "execution_count": null,
   "id": "90a8c931",
   "metadata": {},
   "outputs": [],
   "source": []
  }
 ],
 "metadata": {
  "kernelspec": {
   "display_name": "Python 3 (ipykernel)",
   "language": "python",
   "name": "python3"
  },
  "language_info": {
   "codemirror_mode": {
    "name": "ipython",
    "version": 3
   },
   "file_extension": ".py",
   "mimetype": "text/x-python",
   "name": "python",
   "nbconvert_exporter": "python",
   "pygments_lexer": "ipython3",
   "version": "3.9.12"
  }
 },
 "nbformat": 4,
 "nbformat_minor": 5
}
