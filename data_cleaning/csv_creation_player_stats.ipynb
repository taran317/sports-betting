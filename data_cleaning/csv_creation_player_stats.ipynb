{
 "cells": [
  {
   "cell_type": "code",
   "execution_count": 1,
   "id": "e9ea27c9",
   "metadata": {},
   "outputs": [],
   "source": [
    "import numpy as np\n",
    "import pandas as pd"
   ]
  },
  {
   "cell_type": "code",
   "execution_count": 2,
   "id": "5d7f5037",
   "metadata": {},
   "outputs": [],
   "source": [
    "df_games = pd.read_csv('nba_games.csv')"
   ]
  },
  {
   "cell_type": "code",
   "execution_count": 3,
   "id": "079b966a",
   "metadata": {},
   "outputs": [],
   "source": [
    "df_players = pd.read_csv('nba_players_game_stats.csv')"
   ]
  },
  {
   "cell_type": "code",
   "execution_count": 4,
   "id": "fe33eb37",
   "metadata": {},
   "outputs": [
    {
     "data": {
      "text/plain": [
       "<bound method NDFrame.head of          season_id  player_id             player_name     team_id  \\\n",
       "0            21950      77036  Bear, The Body Hoffman  1610610024   \n",
       "1            21950      78447            Paul Walther  1610610030   \n",
       "2            21950      77675              Ken Murray  1610610024   \n",
       "3            21950      77347               Bob Lavoy  1610610030   \n",
       "4            21950      77132           Arnie Johnson  1610612758   \n",
       "...            ...        ...                     ...         ...   \n",
       "1268206      32017     202331             Paul George  1610616833   \n",
       "1268207      32017     203078            Bradley Beal  1610616833   \n",
       "1268208      32017     201942           DeMar DeRozan  1610616834   \n",
       "1268209      32017     201143              Al Horford  1610616834   \n",
       "1268210      32017     203081          Damian Lillard  1610616834   \n",
       "\n",
       "        team_abbreviation               team_name   game_id   game_date  \\\n",
       "0                     BAL       Baltimore Bullets  25000009  1950-11-04   \n",
       "1                     INO  Indianapolis Olympians  25000009  1950-11-04   \n",
       "2                     BAL       Baltimore Bullets  25000009  1950-11-04   \n",
       "3                     INO  Indianapolis Olympians  25000009  1950-11-04   \n",
       "4                     ROC        Rochester Royals  25000012  1950-11-04   \n",
       "...                   ...                     ...       ...         ...   \n",
       "1268206               LBN             Team LeBron  31700001  2018-02-18   \n",
       "1268207               LBN             Team LeBron  31700001  2018-02-18   \n",
       "1268208               STP            Team Stephen  31700001  2018-02-18   \n",
       "1268209               STP            Team Stephen  31700001  2018-02-18   \n",
       "1268210               STP            Team Stephen  31700001  2018-02-18   \n",
       "\n",
       "             matchup wl  ...  ast  stl  blk  tov   pf  pts  plus_minus  \\\n",
       "0        BAL vs. INO  W  ...  NaN  NaN  NaN  NaN  NaN   11         NaN   \n",
       "1          INO @ BAL  L  ...  NaN  NaN  NaN  NaN  NaN   10         NaN   \n",
       "2        BAL vs. INO  W  ...  NaN  NaN  NaN  NaN  NaN    8         NaN   \n",
       "3          INO @ BAL  L  ...  NaN  NaN  NaN  NaN  NaN    9         NaN   \n",
       "4        ROC vs. FTW  W  ...  NaN  NaN  NaN  NaN  NaN   11         NaN   \n",
       "...              ... ..  ...  ...  ...  ...  ...  ...  ...         ...   \n",
       "1268206    LBN @ STP  W  ...  4.0  1.0  0.0  0.0  2.0   16        11.0   \n",
       "1268207    LBN @ STP  W  ...  0.0  1.0  0.0  1.0  1.0   14        -4.0   \n",
       "1268208  STP vs. LBN  L  ...  2.0  2.0  0.0  2.0  1.0   21         0.0   \n",
       "1268209  STP vs. LBN  L  ...  2.0  1.0  0.0  0.0  0.0    6         0.0   \n",
       "1268210  STP vs. LBN  L  ...  2.0  0.0  0.0  1.0  0.0   21        18.0   \n",
       "\n",
       "            season_type  season_year   season  \n",
       "0        Regular Season         1950  1950-51  \n",
       "1        Regular Season         1950  1950-51  \n",
       "2        Regular Season         1950  1950-51  \n",
       "3        Regular Season         1950  1950-51  \n",
       "4        Regular Season         1950  1950-51  \n",
       "...                 ...          ...      ...  \n",
       "1268206        All Star         2017  2017-18  \n",
       "1268207        All Star         2017  2017-18  \n",
       "1268208        All Star         2017  2017-18  \n",
       "1268209        All Star         2017  2017-18  \n",
       "1268210        All Star         2017  2017-18  \n",
       "\n",
       "[1268211 rows x 33 columns]>"
      ]
     },
     "execution_count": 4,
     "metadata": {},
     "output_type": "execute_result"
    }
   ],
   "source": [
    "df_players.head"
   ]
  },
  {
   "cell_type": "code",
   "execution_count": 5,
   "id": "64f79fa4",
   "metadata": {},
   "outputs": [],
   "source": [
    "df_players = df_players.loc[df_players['game_id'].isin(df_games['game_id'])]"
   ]
  },
  {
   "cell_type": "code",
   "execution_count": 6,
   "id": "5938e0c8",
   "metadata": {},
   "outputs": [
    {
     "data": {
      "text/plain": [
       "<bound method NDFrame.head of          season_id  player_id      player_name     team_id team_abbreviation  \\\n",
       "912919       22006     101121      Joey Graham  1610612761               TOR   \n",
       "912920       22006     200801     Hassan Adams  1610612751               NJN   \n",
       "912921       22006     101181    Jose Calderon  1610612761               TOR   \n",
       "912922       22006       2743   Kris Humphries  1610612761               TOR   \n",
       "912923       22006     200745  Andrea Bargnani  1610612761               TOR   \n",
       "...            ...        ...              ...         ...               ...   \n",
       "1268183      42017     203918      Rodney Hood  1610612739               CLE   \n",
       "1268184      42017       2594      Kyle Korver  1610612739               CLE   \n",
       "1268185      42017     201588      George Hill  1610612739               CLE   \n",
       "1268186      42017     101181    Jose Calderon  1610612739               CLE   \n",
       "1268187      42017    1627775    Patrick McCaw  1610612744               GSW   \n",
       "\n",
       "                     team_name   game_id   game_date      matchup wl  ...  \\\n",
       "912919         Toronto Raptors  20600007  2006-11-01    TOR @ NJN  L  ...   \n",
       "912920         New Jersey Nets  20600007  2006-11-01  NJN vs. TOR  W  ...   \n",
       "912921         Toronto Raptors  20600007  2006-11-01    TOR @ NJN  L  ...   \n",
       "912922         Toronto Raptors  20600007  2006-11-01    TOR @ NJN  L  ...   \n",
       "912923         Toronto Raptors  20600007  2006-11-01    TOR @ NJN  L  ...   \n",
       "...                        ...       ...         ...          ... ..  ...   \n",
       "1268183    Cleveland Cavaliers  41700404  2018-06-08  CLE vs. GSW  L  ...   \n",
       "1268184    Cleveland Cavaliers  41700404  2018-06-08  CLE vs. GSW  L  ...   \n",
       "1268185    Cleveland Cavaliers  41700404  2018-06-08  CLE vs. GSW  L  ...   \n",
       "1268186    Cleveland Cavaliers  41700404  2018-06-08  CLE vs. GSW  L  ...   \n",
       "1268187  Golden State Warriors  41700404  2018-06-08    GSW @ CLE  W  ...   \n",
       "\n",
       "         ast  stl  blk  tov   pf  pts  plus_minus     season_type  \\\n",
       "912919   1.0  0.0  1.0  1.0  3.0    0        -5.0  Regular Season   \n",
       "912920   0.0  0.0  0.0  0.0  0.0    0        -4.0  Regular Season   \n",
       "912921   3.0  1.0  0.0  0.0  0.0    4        -8.0  Regular Season   \n",
       "912922   0.0  0.0  0.0  0.0  1.0    2        -6.0  Regular Season   \n",
       "912923   0.0  0.0  2.0  1.0  3.0    2         8.0  Regular Season   \n",
       "...      ...  ...  ...  ...  ...  ...         ...             ...   \n",
       "1268183  2.0  2.0  1.0  2.0  2.0   10        -1.0        Playoffs   \n",
       "1268184  1.0  0.0  0.0  1.0  2.0    2        -1.0        Playoffs   \n",
       "1268185  1.0  0.0  0.0  1.0  3.0    3       -26.0        Playoffs   \n",
       "1268186  1.0  1.0  0.0  0.0  0.0    0         2.0        Playoffs   \n",
       "1268187  0.0  0.0  0.0  0.0  0.0    0        -2.0        Playoffs   \n",
       "\n",
       "         season_year   season  \n",
       "912919          2006  2006-07  \n",
       "912920          2006  2006-07  \n",
       "912921          2006  2006-07  \n",
       "912922          2006  2006-07  \n",
       "912923          2006  2006-07  \n",
       "...              ...      ...  \n",
       "1268183         2017  2017-18  \n",
       "1268184         2017  2017-18  \n",
       "1268185         2017  2017-18  \n",
       "1268186         2017  2017-18  \n",
       "1268187         2017  2017-18  \n",
       "\n",
       "[309181 rows x 33 columns]>"
      ]
     },
     "execution_count": 6,
     "metadata": {},
     "output_type": "execute_result"
    }
   ],
   "source": [
    "df_players.head"
   ]
  },
  {
   "cell_type": "code",
   "execution_count": 7,
   "id": "beba2f1a",
   "metadata": {},
   "outputs": [
    {
     "data": {
      "text/plain": [
       "14906"
      ]
     },
     "execution_count": 7,
     "metadata": {},
     "output_type": "execute_result"
    }
   ],
   "source": [
    "df_players['game_id'].nunique()"
   ]
  },
  {
   "cell_type": "code",
   "execution_count": 8,
   "id": "7e256bc4",
   "metadata": {},
   "outputs": [
    {
     "data": {
      "text/plain": [
       "Index(['season_id', 'player_id', 'player_name', 'team_id', 'team_abbreviation',\n",
       "       'team_name', 'game_id', 'game_date', 'matchup', 'wl', 'min', 'fgm',\n",
       "       'fga', 'fg_pct', 'fg3m', 'fg3a', 'fg3_pct', 'ftm', 'fta', 'ft_pct',\n",
       "       'oreb', 'dreb', 'reb', 'ast', 'stl', 'blk', 'tov', 'pf', 'pts',\n",
       "       'plus_minus', 'season_type', 'season_year', 'season'],\n",
       "      dtype='object')"
      ]
     },
     "execution_count": 8,
     "metadata": {},
     "output_type": "execute_result"
    }
   ],
   "source": [
    "df_players.columns"
   ]
  },
  {
   "cell_type": "code",
   "execution_count": 9,
   "id": "bc72709a",
   "metadata": {},
   "outputs": [],
   "source": [
    "df_players.to_csv('nba_players_stats.csv')"
   ]
  },
  {
   "cell_type": "code",
   "execution_count": null,
   "id": "dd7a5048",
   "metadata": {},
   "outputs": [],
   "source": []
  }
 ],
 "metadata": {
  "kernelspec": {
   "display_name": "Python 3 (ipykernel)",
   "language": "python",
   "name": "python3"
  },
  "language_info": {
   "codemirror_mode": {
    "name": "ipython",
    "version": 3
   },
   "file_extension": ".py",
   "mimetype": "text/x-python",
   "name": "python",
   "nbconvert_exporter": "python",
   "pygments_lexer": "ipython3",
   "version": "3.9.12"
  }
 },
 "nbformat": 4,
 "nbformat_minor": 5
}
