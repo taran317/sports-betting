{
 "cells": [
  {
   "cell_type": "code",
   "execution_count": 27,
   "id": "b47a1851",
   "metadata": {},
   "outputs": [],
   "source": [
    "import numpy as np\n",
    "import pandas as pd"
   ]
  },
  {
   "cell_type": "code",
   "execution_count": 28,
   "id": "2ecdd615",
   "metadata": {},
   "outputs": [],
   "source": [
    "df_moneyline = pd.read_csv('nba_betting_money_line.csv')\n",
    "df_spread = pd.read_csv('nba_betting_spread.csv')\n",
    "df_total = pd.read_csv('nba_betting_totals.csv')"
   ]
  },
  {
   "cell_type": "code",
   "execution_count": 4,
   "id": "3a1d0f97",
   "metadata": {},
   "outputs": [
    {
     "data": {
      "text/plain": [
       "<bound method NDFrame.head of          game_id        book_name  book_id     team_id   a_team_id  price1  \\\n",
       "0       41100314  Pinnacle Sports      238  1610612759  1610612760   165.0   \n",
       "1       41100314           5Dimes       19  1610612759  1610612760   165.0   \n",
       "2       41100314        Bookmaker       93  1610612759  1610612760   160.0   \n",
       "3       41100314        BetOnline     1096  1610612759  1610612760   165.0   \n",
       "4       41100314           Bovada   999996  1610612759  1610612760   155.0   \n",
       "...          ...              ...      ...         ...         ...     ...   \n",
       "125281  41700215         Heritage      169  1610612755  1610612738   105.0   \n",
       "125282  41700215        Intertops      180  1610612755  1610612738   100.0   \n",
       "125283  41700215         YouWager      139  1610612755  1610612738   105.0   \n",
       "125284  41700215          JustBet     1275  1610612755  1610612738   100.0   \n",
       "125285  41700215    Sportsbetting   999991  1610612755  1610612738   105.0   \n",
       "\n",
       "        price2  \n",
       "0       -183.0  \n",
       "1       -175.0  \n",
       "2       -190.0  \n",
       "3       -190.0  \n",
       "4       -175.0  \n",
       "...        ...  \n",
       "125281  -125.0  \n",
       "125282  -120.0  \n",
       "125283  -125.0  \n",
       "125284  -120.0  \n",
       "125285  -125.0  \n",
       "\n",
       "[125286 rows x 7 columns]>"
      ]
     },
     "execution_count": 4,
     "metadata": {},
     "output_type": "execute_result"
    }
   ],
   "source": [
    "df_moneyline.head"
   ]
  },
  {
   "cell_type": "code",
   "execution_count": 29,
   "id": "e89729b1",
   "metadata": {},
   "outputs": [],
   "source": [
    "df_moneyline = df_moneyline.rename(columns={'price1': 'moneyline_price1', 'price2': 'moneyline_price2'})"
   ]
  },
  {
   "cell_type": "code",
   "execution_count": 5,
   "id": "a1a1d617",
   "metadata": {},
   "outputs": [
    {
     "data": {
      "text/plain": [
       "<bound method NDFrame.head of          game_id        book_name  book_id     team_id   a_team_id  spread1  \\\n",
       "0       21000358  Pinnacle Sports      238  1610612749  1610612742      7.5   \n",
       "1       21000358           5Dimes       19  1610612749  1610612742      7.5   \n",
       "2       21000358        Bookmaker       93  1610612749  1610612742      7.5   \n",
       "3       21000358        BetOnline     1096  1610612749  1610612742      7.5   \n",
       "4       21000358           Bovada   999996  1610612749  1610612742      8.0   \n",
       "...          ...              ...      ...         ...         ...      ...   \n",
       "131685  21501153        BetOnline     1096  1610612738  1610612747     -9.0   \n",
       "131686  21501153           Bovada   999996  1610612738  1610612747     -9.5   \n",
       "131687  21501153         Heritage      169  1610612738  1610612747     -9.5   \n",
       "131688  21501153        Intertops      180  1610612738  1610612747     -9.5   \n",
       "131689  21501153         YouWager      139  1610612738  1610612747     -9.0   \n",
       "\n",
       "        spread2  price1  price2  \n",
       "0          -7.5  -106.0  -104.0  \n",
       "1          -7.5  -110.0  -110.0  \n",
       "2          -7.5  -110.0  -110.0  \n",
       "3          -7.5  -110.0  -110.0  \n",
       "4          -8.0  -115.0  -105.0  \n",
       "...         ...     ...     ...  \n",
       "131685      9.0  -110.0  -110.0  \n",
       "131686      9.5  -110.0  -110.0  \n",
       "131687      9.5  -105.0  -105.0  \n",
       "131688      9.5  -110.0  -110.0  \n",
       "131689      9.0  -110.0  -110.0  \n",
       "\n",
       "[131690 rows x 9 columns]>"
      ]
     },
     "execution_count": 5,
     "metadata": {},
     "output_type": "execute_result"
    }
   ],
   "source": [
    "df_spread.head"
   ]
  },
  {
   "cell_type": "code",
   "execution_count": 30,
   "id": "a5222a6a",
   "metadata": {},
   "outputs": [],
   "source": [
    "df_spread = df_spread.rename(columns={'price1': 'spread_price1', 'price2': 'spread_price2'})"
   ]
  },
  {
   "cell_type": "code",
   "execution_count": 16,
   "id": "00306b94",
   "metadata": {},
   "outputs": [
    {
     "data": {
      "text/plain": [
       "<bound method NDFrame.head of          game_id        book_name  book_id     team_id   a_team_id  total1  \\\n",
       "0       21100131  Pinnacle Sports      238  1610612740  1610612743   192.0   \n",
       "1       21100131           5Dimes       19  1610612740  1610612743   192.0   \n",
       "2       21100131        Bookmaker       93  1610612740  1610612743   192.0   \n",
       "3       21100131        BetOnline     1096  1610612740  1610612743   191.5   \n",
       "4       21100131           Bovada   999996  1610612740  1610612743   192.0   \n",
       "...          ...              ...      ...         ...         ...     ...   \n",
       "131381  41700215         Heritage      169  1610612755  1610612738   204.5   \n",
       "131382  41700215        Intertops      180  1610612755  1610612738   205.0   \n",
       "131383  41700215         YouWager      139  1610612755  1610612738   204.5   \n",
       "131384  41700215          JustBet     1275  1610612755  1610612738   204.0   \n",
       "131385  41700215    Sportsbetting   999991  1610612755  1610612738   204.5   \n",
       "\n",
       "        total2  price1  price2  \n",
       "0        192.0  -105.0  -105.0  \n",
       "1        192.0  -105.0  -105.0  \n",
       "2        192.0  -110.0  -110.0  \n",
       "3        191.5  -110.0  -110.0  \n",
       "4        192.0  -110.0  -110.0  \n",
       "...        ...     ...     ...  \n",
       "131381   204.5  -105.0  -105.0  \n",
       "131382   205.0  -110.0  -110.0  \n",
       "131383   204.5  -110.0  -110.0  \n",
       "131384   204.0  -110.0  -110.0  \n",
       "131385   204.5  -110.0  -110.0  \n",
       "\n",
       "[131386 rows x 9 columns]>"
      ]
     },
     "execution_count": 16,
     "metadata": {},
     "output_type": "execute_result"
    }
   ],
   "source": [
    "df_total.head"
   ]
  },
  {
   "cell_type": "code",
   "execution_count": 31,
   "id": "18298f9c",
   "metadata": {},
   "outputs": [],
   "source": [
    "df_total = df_total.rename(columns={'price1': 'total_price1', 'price2': 'total_price2'})"
   ]
  },
  {
   "cell_type": "code",
   "execution_count": 32,
   "id": "f6d1520e",
   "metadata": {},
   "outputs": [
    {
     "data": {
      "text/plain": [
       "14906"
      ]
     },
     "execution_count": 32,
     "metadata": {},
     "output_type": "execute_result"
    }
   ],
   "source": [
    "df_moneyline['game_id'].nunique()"
   ]
  },
  {
   "cell_type": "code",
   "execution_count": 33,
   "id": "ea211847",
   "metadata": {},
   "outputs": [
    {
     "data": {
      "text/plain": [
       "14914"
      ]
     },
     "execution_count": 33,
     "metadata": {},
     "output_type": "execute_result"
    }
   ],
   "source": [
    "df_spread['game_id'].nunique()"
   ]
  },
  {
   "cell_type": "code",
   "execution_count": 34,
   "id": "69cd86ce",
   "metadata": {},
   "outputs": [
    {
     "data": {
      "text/plain": [
       "14918"
      ]
     },
     "execution_count": 34,
     "metadata": {},
     "output_type": "execute_result"
    }
   ],
   "source": [
    "df_total['game_id'].nunique()"
   ]
  },
  {
   "cell_type": "code",
   "execution_count": 56,
   "id": "cbd540f0",
   "metadata": {},
   "outputs": [],
   "source": [
    "df_all = pd.merge(df_moneyline, df_spread, how='left', left_on=['game_id', 'book_id', 'book_name', 'team_id', 'a_team_id'], right_on = ['game_id', 'book_id', 'book_name', 'team_id', 'a_team_id'])"
   ]
  },
  {
   "cell_type": "code",
   "execution_count": 57,
   "id": "3d445004",
   "metadata": {},
   "outputs": [],
   "source": [
    "df_all = pd.merge(df_all, df_total, how='left', left_on=['game_id', 'book_id', 'book_name', 'team_id', 'a_team_id'], right_on = ['game_id', 'book_id', 'book_name', 'team_id', 'a_team_id'])"
   ]
  },
  {
   "cell_type": "code",
   "execution_count": 58,
   "id": "4dc1fb5d",
   "metadata": {},
   "outputs": [
    {
     "data": {
      "text/plain": [
       "14906"
      ]
     },
     "execution_count": 58,
     "metadata": {},
     "output_type": "execute_result"
    }
   ],
   "source": [
    "df_all['game_id'].nunique()"
   ]
  },
  {
   "cell_type": "code",
   "execution_count": 59,
   "id": "071961c3",
   "metadata": {},
   "outputs": [
    {
     "data": {
      "text/plain": [
       "<bound method NDFrame.head of          game_id        book_name  book_id     team_id   a_team_id  \\\n",
       "0       41100314  Pinnacle Sports      238  1610612759  1610612760   \n",
       "1       41100314           5Dimes       19  1610612759  1610612760   \n",
       "2       41100314        Bookmaker       93  1610612759  1610612760   \n",
       "3       41100314        BetOnline     1096  1610612759  1610612760   \n",
       "4       41100314           Bovada   999996  1610612759  1610612760   \n",
       "...          ...              ...      ...         ...         ...   \n",
       "125281  41700215         Heritage      169  1610612755  1610612738   \n",
       "125282  41700215        Intertops      180  1610612755  1610612738   \n",
       "125283  41700215         YouWager      139  1610612755  1610612738   \n",
       "125284  41700215          JustBet     1275  1610612755  1610612738   \n",
       "125285  41700215    Sportsbetting   999991  1610612755  1610612738   \n",
       "\n",
       "        moneyline_price1  moneyline_price2  spread1  spread2  spread_price1  \\\n",
       "0                  165.0            -183.0      3.5     -3.5          103.0   \n",
       "1                  165.0            -175.0      3.5     -3.5         -101.0   \n",
       "2                  160.0            -190.0      3.5     -3.5         -110.0   \n",
       "3                  165.0            -190.0      3.5     -3.5         -105.0   \n",
       "4                  155.0            -175.0      4.0     -4.0         -115.0   \n",
       "...                  ...               ...      ...      ...            ...   \n",
       "125281             105.0            -125.0      1.5     -1.5         -105.0   \n",
       "125282             100.0            -120.0      1.5     -1.5         -110.0   \n",
       "125283             105.0            -125.0      1.5     -1.5         -110.0   \n",
       "125284             100.0            -120.0      1.5     -1.5         -110.0   \n",
       "125285             105.0            -125.0      1.5     -1.5         -110.0   \n",
       "\n",
       "        spread_price2  total1  total2  total_price1  total_price2  \n",
       "0              -111.0   201.5   201.5        -102.0        -108.0  \n",
       "1              -109.0   202.0   202.0        -101.0        -109.0  \n",
       "2              -110.0   202.0   202.0        -110.0        -110.0  \n",
       "3              -115.0   202.0   202.0        -110.0        -110.0  \n",
       "4              -105.0   203.0   203.0        -105.0        -115.0  \n",
       "...               ...     ...     ...           ...           ...  \n",
       "125281         -105.0   204.5   204.5        -105.0        -105.0  \n",
       "125282         -110.0   205.0   205.0        -110.0        -110.0  \n",
       "125283         -110.0   204.5   204.5        -110.0        -110.0  \n",
       "125284         -110.0   204.0   204.0        -110.0        -110.0  \n",
       "125285         -110.0   204.5   204.5        -110.0        -110.0  \n",
       "\n",
       "[125286 rows x 15 columns]>"
      ]
     },
     "execution_count": 59,
     "metadata": {},
     "output_type": "execute_result"
    }
   ],
   "source": [
    "df_all.head"
   ]
  },
  {
   "cell_type": "code",
   "execution_count": 60,
   "id": "e3791b3c",
   "metadata": {},
   "outputs": [
    {
     "data": {
      "text/plain": [
       "Index(['game_id', 'book_name', 'book_id', 'team_id', 'a_team_id',\n",
       "       'moneyline_price1', 'moneyline_price2', 'spread1', 'spread2',\n",
       "       'spread_price1', 'spread_price2', 'total1', 'total2', 'total_price1',\n",
       "       'total_price2'],\n",
       "      dtype='object')"
      ]
     },
     "execution_count": 60,
     "metadata": {},
     "output_type": "execute_result"
    }
   ],
   "source": [
    "df_all.columns"
   ]
  },
  {
   "cell_type": "code",
   "execution_count": 61,
   "id": "7f03655a",
   "metadata": {},
   "outputs": [
    {
     "ename": "KeyError",
     "evalue": "'a_team_id_x'",
     "output_type": "error",
     "traceback": [
      "\u001b[0;31m---------------------------------------------------------------------------\u001b[0m",
      "\u001b[0;31mKeyError\u001b[0m                                  Traceback (most recent call last)",
      "File \u001b[0;32m~/opt/anaconda3/lib/python3.9/site-packages/pandas/core/indexes/base.py:3621\u001b[0m, in \u001b[0;36mIndex.get_loc\u001b[0;34m(self, key, method, tolerance)\u001b[0m\n\u001b[1;32m   3620\u001b[0m \u001b[38;5;28;01mtry\u001b[39;00m:\n\u001b[0;32m-> 3621\u001b[0m     \u001b[38;5;28;01mreturn\u001b[39;00m \u001b[38;5;28;43mself\u001b[39;49m\u001b[38;5;241;43m.\u001b[39;49m\u001b[43m_engine\u001b[49m\u001b[38;5;241;43m.\u001b[39;49m\u001b[43mget_loc\u001b[49m\u001b[43m(\u001b[49m\u001b[43mcasted_key\u001b[49m\u001b[43m)\u001b[49m\n\u001b[1;32m   3622\u001b[0m \u001b[38;5;28;01mexcept\u001b[39;00m \u001b[38;5;167;01mKeyError\u001b[39;00m \u001b[38;5;28;01mas\u001b[39;00m err:\n",
      "File \u001b[0;32m~/opt/anaconda3/lib/python3.9/site-packages/pandas/_libs/index.pyx:136\u001b[0m, in \u001b[0;36mpandas._libs.index.IndexEngine.get_loc\u001b[0;34m()\u001b[0m\n",
      "File \u001b[0;32m~/opt/anaconda3/lib/python3.9/site-packages/pandas/_libs/index.pyx:163\u001b[0m, in \u001b[0;36mpandas._libs.index.IndexEngine.get_loc\u001b[0;34m()\u001b[0m\n",
      "File \u001b[0;32mpandas/_libs/hashtable_class_helper.pxi:5198\u001b[0m, in \u001b[0;36mpandas._libs.hashtable.PyObjectHashTable.get_item\u001b[0;34m()\u001b[0m\n",
      "File \u001b[0;32mpandas/_libs/hashtable_class_helper.pxi:5206\u001b[0m, in \u001b[0;36mpandas._libs.hashtable.PyObjectHashTable.get_item\u001b[0;34m()\u001b[0m\n",
      "\u001b[0;31mKeyError\u001b[0m: 'a_team_id_x'",
      "\nThe above exception was the direct cause of the following exception:\n",
      "\u001b[0;31mKeyError\u001b[0m                                  Traceback (most recent call last)",
      "Input \u001b[0;32mIn [61]\u001b[0m, in \u001b[0;36m<cell line: 2>\u001b[0;34m()\u001b[0m\n\u001b[1;32m      1\u001b[0m count \u001b[38;5;241m=\u001b[39m \u001b[38;5;241m0\u001b[39m\n\u001b[1;32m      2\u001b[0m \u001b[38;5;28;01mfor\u001b[39;00m index, row \u001b[38;5;129;01min\u001b[39;00m df_all\u001b[38;5;241m.\u001b[39miterrows():\n\u001b[0;32m----> 3\u001b[0m     \u001b[38;5;28;01mif\u001b[39;00m \u001b[38;5;129;01mnot\u001b[39;00m (\u001b[43mrow\u001b[49m\u001b[43m[\u001b[49m\u001b[38;5;124;43m'\u001b[39;49m\u001b[38;5;124;43ma_team_id_x\u001b[39;49m\u001b[38;5;124;43m'\u001b[39;49m\u001b[43m]\u001b[49m \u001b[38;5;241m==\u001b[39m row[\u001b[38;5;124m'\u001b[39m\u001b[38;5;124ma_team_id_y\u001b[39m\u001b[38;5;124m'\u001b[39m] \u001b[38;5;129;01mand\u001b[39;00m row[\u001b[38;5;124m'\u001b[39m\u001b[38;5;124ma_team_id_x\u001b[39m\u001b[38;5;124m'\u001b[39m] \u001b[38;5;241m==\u001b[39m row[\u001b[38;5;124m'\u001b[39m\u001b[38;5;124ma_team_id\u001b[39m\u001b[38;5;124m'\u001b[39m]) \u001b[38;5;129;01mand\u001b[39;00m \u001b[38;5;129;01mnot\u001b[39;00m (row[\u001b[38;5;124m'\u001b[39m\u001b[38;5;124mteam_id_x\u001b[39m\u001b[38;5;124m'\u001b[39m] \u001b[38;5;241m==\u001b[39m row[\u001b[38;5;124m'\u001b[39m\u001b[38;5;124mteam_id_y\u001b[39m\u001b[38;5;124m'\u001b[39m] \u001b[38;5;129;01mand\u001b[39;00m row[\u001b[38;5;124m'\u001b[39m\u001b[38;5;124mteam_id_x\u001b[39m\u001b[38;5;124m'\u001b[39m] \u001b[38;5;241m==\u001b[39m row[\u001b[38;5;124m'\u001b[39m\u001b[38;5;124mteam_id\u001b[39m\u001b[38;5;124m'\u001b[39m]):\n\u001b[1;32m      4\u001b[0m         \u001b[38;5;28mprint\u001b[39m(row[\u001b[38;5;124m'\u001b[39m\u001b[38;5;124mteam_id\u001b[39m\u001b[38;5;124m'\u001b[39m], row[\u001b[38;5;124m'\u001b[39m\u001b[38;5;124ma_team_id\u001b[39m\u001b[38;5;124m'\u001b[39m], row[\u001b[38;5;124m'\u001b[39m\u001b[38;5;124mteam_id_x\u001b[39m\u001b[38;5;124m'\u001b[39m], row[\u001b[38;5;124m'\u001b[39m\u001b[38;5;124ma_team_id_x\u001b[39m\u001b[38;5;124m'\u001b[39m], row[\u001b[38;5;124m'\u001b[39m\u001b[38;5;124mteam_id_y\u001b[39m\u001b[38;5;124m'\u001b[39m], row[\u001b[38;5;124m'\u001b[39m\u001b[38;5;124ma_team_id_y\u001b[39m\u001b[38;5;124m'\u001b[39m])\n\u001b[1;32m      5\u001b[0m         count \u001b[38;5;241m+\u001b[39m\u001b[38;5;241m=\u001b[39m \u001b[38;5;241m1\u001b[39m\n",
      "File \u001b[0;32m~/opt/anaconda3/lib/python3.9/site-packages/pandas/core/series.py:958\u001b[0m, in \u001b[0;36mSeries.__getitem__\u001b[0;34m(self, key)\u001b[0m\n\u001b[1;32m    955\u001b[0m     \u001b[38;5;28;01mreturn\u001b[39;00m \u001b[38;5;28mself\u001b[39m\u001b[38;5;241m.\u001b[39m_values[key]\n\u001b[1;32m    957\u001b[0m \u001b[38;5;28;01melif\u001b[39;00m key_is_scalar:\n\u001b[0;32m--> 958\u001b[0m     \u001b[38;5;28;01mreturn\u001b[39;00m \u001b[38;5;28;43mself\u001b[39;49m\u001b[38;5;241;43m.\u001b[39;49m\u001b[43m_get_value\u001b[49m\u001b[43m(\u001b[49m\u001b[43mkey\u001b[49m\u001b[43m)\u001b[49m\n\u001b[1;32m    960\u001b[0m \u001b[38;5;28;01mif\u001b[39;00m is_hashable(key):\n\u001b[1;32m    961\u001b[0m     \u001b[38;5;66;03m# Otherwise index.get_value will raise InvalidIndexError\u001b[39;00m\n\u001b[1;32m    962\u001b[0m     \u001b[38;5;28;01mtry\u001b[39;00m:\n\u001b[1;32m    963\u001b[0m         \u001b[38;5;66;03m# For labels that don't resolve as scalars like tuples and frozensets\u001b[39;00m\n",
      "File \u001b[0;32m~/opt/anaconda3/lib/python3.9/site-packages/pandas/core/series.py:1069\u001b[0m, in \u001b[0;36mSeries._get_value\u001b[0;34m(self, label, takeable)\u001b[0m\n\u001b[1;32m   1066\u001b[0m     \u001b[38;5;28;01mreturn\u001b[39;00m \u001b[38;5;28mself\u001b[39m\u001b[38;5;241m.\u001b[39m_values[label]\n\u001b[1;32m   1068\u001b[0m \u001b[38;5;66;03m# Similar to Index.get_value, but we do not fall back to positional\u001b[39;00m\n\u001b[0;32m-> 1069\u001b[0m loc \u001b[38;5;241m=\u001b[39m \u001b[38;5;28;43mself\u001b[39;49m\u001b[38;5;241;43m.\u001b[39;49m\u001b[43mindex\u001b[49m\u001b[38;5;241;43m.\u001b[39;49m\u001b[43mget_loc\u001b[49m\u001b[43m(\u001b[49m\u001b[43mlabel\u001b[49m\u001b[43m)\u001b[49m\n\u001b[1;32m   1070\u001b[0m \u001b[38;5;28;01mreturn\u001b[39;00m \u001b[38;5;28mself\u001b[39m\u001b[38;5;241m.\u001b[39mindex\u001b[38;5;241m.\u001b[39m_get_values_for_loc(\u001b[38;5;28mself\u001b[39m, loc, label)\n",
      "File \u001b[0;32m~/opt/anaconda3/lib/python3.9/site-packages/pandas/core/indexes/base.py:3623\u001b[0m, in \u001b[0;36mIndex.get_loc\u001b[0;34m(self, key, method, tolerance)\u001b[0m\n\u001b[1;32m   3621\u001b[0m     \u001b[38;5;28;01mreturn\u001b[39;00m \u001b[38;5;28mself\u001b[39m\u001b[38;5;241m.\u001b[39m_engine\u001b[38;5;241m.\u001b[39mget_loc(casted_key)\n\u001b[1;32m   3622\u001b[0m \u001b[38;5;28;01mexcept\u001b[39;00m \u001b[38;5;167;01mKeyError\u001b[39;00m \u001b[38;5;28;01mas\u001b[39;00m err:\n\u001b[0;32m-> 3623\u001b[0m     \u001b[38;5;28;01mraise\u001b[39;00m \u001b[38;5;167;01mKeyError\u001b[39;00m(key) \u001b[38;5;28;01mfrom\u001b[39;00m \u001b[38;5;21;01merr\u001b[39;00m\n\u001b[1;32m   3624\u001b[0m \u001b[38;5;28;01mexcept\u001b[39;00m \u001b[38;5;167;01mTypeError\u001b[39;00m:\n\u001b[1;32m   3625\u001b[0m     \u001b[38;5;66;03m# If we have a listlike key, _check_indexing_error will raise\u001b[39;00m\n\u001b[1;32m   3626\u001b[0m     \u001b[38;5;66;03m#  InvalidIndexError. Otherwise we fall through and re-raise\u001b[39;00m\n\u001b[1;32m   3627\u001b[0m     \u001b[38;5;66;03m#  the TypeError.\u001b[39;00m\n\u001b[1;32m   3628\u001b[0m     \u001b[38;5;28mself\u001b[39m\u001b[38;5;241m.\u001b[39m_check_indexing_error(key)\n",
      "\u001b[0;31mKeyError\u001b[0m: 'a_team_id_x'"
     ]
    }
   ],
   "source": [
    "count = 0\n",
    "for index, row in df_all.iterrows():\n",
    "    if not (row['a_team_id_x'] == row['a_team_id_y'] and row['a_team_id_x'] == row['a_team_id']) and not (row['team_id_x'] == row['team_id_y'] and row['team_id_x'] == row['team_id']):\n",
    "        print(row['team_id'], row['a_team_id'], row['team_id_x'], row['a_team_id_x'], row['team_id_y'], row['a_team_id_y'])\n",
    "        count += 1\n",
    "print(count)"
   ]
  },
  {
   "cell_type": "code",
   "execution_count": 50,
   "id": "1e8396b1",
   "metadata": {},
   "outputs": [
    {
     "name": "stdout",
     "output_type": "stream",
     "text": [
      "314\n"
     ]
    }
   ],
   "source": [
    "count = 0\n",
    "for index, row in df_all.iterrows():\n",
    "    if not (row['a_team_id'] == row['a_team_id_x']):\n",
    "        count += 1\n",
    "print(count)"
   ]
  },
  {
   "cell_type": "code",
   "execution_count": 62,
   "id": "b810c0bc",
   "metadata": {},
   "outputs": [
    {
     "data": {
      "text/plain": [
       "0"
      ]
     },
     "execution_count": 62,
     "metadata": {},
     "output_type": "execute_result"
    }
   ],
   "source": [
    "df_all['team_id'].isna().sum()"
   ]
  },
  {
   "cell_type": "code",
   "execution_count": 63,
   "id": "b270a281",
   "metadata": {},
   "outputs": [],
   "source": [
    "df_all.to_csv('nba_betting.csv', index=False)"
   ]
  },
  {
   "cell_type": "code",
   "execution_count": 64,
   "id": "3a3919c4",
   "metadata": {},
   "outputs": [
    {
     "data": {
      "text/plain": [
       "14906"
      ]
     },
     "execution_count": 64,
     "metadata": {},
     "output_type": "execute_result"
    }
   ],
   "source": [
    "df_all['game_id'].nunique()"
   ]
  },
  {
   "cell_type": "code",
   "execution_count": 65,
   "id": "c149fef6",
   "metadata": {},
   "outputs": [
    {
     "data": {
      "text/plain": [
       "1879290"
      ]
     },
     "execution_count": 65,
     "metadata": {},
     "output_type": "execute_result"
    }
   ],
   "source": [
    "df_all.size"
   ]
  },
  {
   "cell_type": "code",
   "execution_count": 67,
   "id": "576e3ded",
   "metadata": {},
   "outputs": [
    {
     "data": {
      "text/plain": [
       "10"
      ]
     },
     "execution_count": 67,
     "metadata": {},
     "output_type": "execute_result"
    }
   ],
   "source": [
    "df_all['book_name'].nunique()"
   ]
  },
  {
   "cell_type": "code",
   "execution_count": 68,
   "id": "da68210a",
   "metadata": {},
   "outputs": [
    {
     "data": {
      "text/plain": [
       "array(['Pinnacle Sports', '5Dimes', 'Bookmaker', 'BetOnline', 'Bovada',\n",
       "       'Heritage', 'Intertops', 'YouWager', 'JustBet', 'Sportsbetting'],\n",
       "      dtype=object)"
      ]
     },
     "execution_count": 68,
     "metadata": {},
     "output_type": "execute_result"
    }
   ],
   "source": [
    "df_all['book_name'].unique()"
   ]
  },
  {
   "cell_type": "code",
   "execution_count": null,
   "id": "891d0d66",
   "metadata": {},
   "outputs": [],
   "source": []
  }
 ],
 "metadata": {
  "kernelspec": {
   "display_name": "Python 3 (ipykernel)",
   "language": "python",
   "name": "python3"
  },
  "language_info": {
   "codemirror_mode": {
    "name": "ipython",
    "version": 3
   },
   "file_extension": ".py",
   "mimetype": "text/x-python",
   "name": "python",
   "nbconvert_exporter": "python",
   "pygments_lexer": "ipython3",
   "version": "3.9.12"
  }
 },
 "nbformat": 4,
 "nbformat_minor": 5
}
