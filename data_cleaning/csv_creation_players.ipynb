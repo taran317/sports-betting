{
 "cells": [
  {
   "cell_type": "code",
   "execution_count": 12,
   "id": "16b078d4",
   "metadata": {},
   "outputs": [],
   "source": [
    "import numpy as np\n",
    "import pandas as pd"
   ]
  },
  {
   "cell_type": "code",
   "execution_count": 13,
   "id": "93da4fb8",
   "metadata": {},
   "outputs": [],
   "source": [
    "df_player_stats = pd.read_csv('nba_players_stats.csv')"
   ]
  },
  {
   "cell_type": "code",
   "execution_count": 14,
   "id": "ea94aa14",
   "metadata": {},
   "outputs": [],
   "source": [
    "df_players = pd.read_csv('nba_players_all.csv')"
   ]
  },
  {
   "cell_type": "code",
   "execution_count": 16,
   "id": "2f79efa2",
   "metadata": {},
   "outputs": [
    {
     "data": {
      "text/plain": [
       "<bound method NDFrame.head of       person_id display_last_comma_first   display_first_last rosterstatus  \\\n",
       "0         76001          Abdelnaby, Alaa       Alaa Abdelnaby            f   \n",
       "1         76002         Abdul-Aziz, Zaid      Zaid Abdul-Aziz            f   \n",
       "2         76003     Abdul-Jabbar, Kareem  Kareem Abdul-Jabbar            f   \n",
       "3            51      Abdul-Rauf, Mahmoud   Mahmoud Abdul-Rauf            f   \n",
       "4          1505       Abdul-Wahad, Tariq    Tariq Abdul-Wahad            f   \n",
       "...         ...                      ...                  ...          ...   \n",
       "4880        953         Wright, Lorenzen      Lorenzen Wright            f   \n",
       "4881       1007           Wright, Luther        Luther Wright            f   \n",
       "4882        412          Wright, Sharone       Sharone Wright            f   \n",
       "4883     203100             Wroten, Tony          Tony Wroten            f   \n",
       "4884      78627             Wynder, A.J.          A.J. Wynder            f   \n",
       "\n",
       "      from_year  to_year                   playercode games_played_flag  \\\n",
       "0        1990.0   1994.0       HISTADD_alaa_abdelnaby                 Y   \n",
       "1        1968.0   1977.0      HISTADD_zaid_abdul-aziz                 Y   \n",
       "2        1969.0   1988.0  HISTADD_kareem_abdul-jabbar                 Y   \n",
       "3        1990.0   2000.0           mahmoud_abdul-rauf                 Y   \n",
       "4        1997.0   2003.0            tariq_abdul-wahad                 Y   \n",
       "...         ...      ...                          ...               ...   \n",
       "4880     1996.0   2008.0              lorenzen_wright                 Y   \n",
       "4881     1993.0   1993.0                luther_wright                 Y   \n",
       "4882     1994.0   1997.0               sharone_wright                 Y   \n",
       "4883     2012.0   2015.0                  tony_wroten                 Y   \n",
       "4884     1990.0   1990.0            HISTADD_aj_wynder                 Y   \n",
       "\n",
       "            position  draft_year  ...  birth_date  height_feet  height_inches  \\\n",
       "0            Forward      1990.0  ...         NaN          6.0           10.0   \n",
       "1             Center      1968.0  ...         NaN          6.0            9.0   \n",
       "2             Center      1969.0  ...         NaN          7.0            2.0   \n",
       "3              Guard      1990.0  ...         NaN          6.0            1.0   \n",
       "4      Forward-Guard      1997.0  ...         NaN          6.0            6.0   \n",
       "...              ...         ...  ...         ...          ...            ...   \n",
       "4880  Forward-Center      1996.0  ...         NaN          6.0           11.0   \n",
       "4881          Center      1993.0  ...         NaN          7.0            2.0   \n",
       "4882             NaN      1994.0  ...         NaN          NaN            NaN   \n",
       "4883           Guard      2012.0  ...         NaN          6.0            6.0   \n",
       "4884           Guard         NaN  ...         NaN          6.0            2.0   \n",
       "\n",
       "        height  weight  season_exp  jersey           school country  \\\n",
       "0     6.833333   240.0           4      30             Duke     USA   \n",
       "1     6.750000   235.0           9      54       Iowa State     USA   \n",
       "2     7.166667   225.0          19      33             UCLA     USA   \n",
       "3     6.083333   162.0           8       1  Louisiana State     USA   \n",
       "4     6.500000   235.0           6       9   San Jose State  France   \n",
       "...        ...     ...         ...     ...              ...     ...   \n",
       "4880  6.916667   255.0          13      55          Memphis     USA   \n",
       "4881  7.166667   270.0           0      44       Seton Hall     USA   \n",
       "4882       NaN     NaN           3     NaN          Clemson     USA   \n",
       "4883  6.500000   205.0           4       5       Washington     USA   \n",
       "4884  6.166667   180.0           0      12        Fairfield     USA   \n",
       "\n",
       "           last_affiliation  \n",
       "0                  Duke/USA  \n",
       "1            Iowa State/USA  \n",
       "2                  UCLA/USA  \n",
       "3       Louisiana State/USA  \n",
       "4     San Jose State/France  \n",
       "...                     ...  \n",
       "4880            Memphis/USA  \n",
       "4881         Seton Hall/USA  \n",
       "4882            Clemson/USA  \n",
       "4883         Washington/USA  \n",
       "4884                  -/USA  \n",
       "\n",
       "[4885 rows x 22 columns]>"
      ]
     },
     "execution_count": 16,
     "metadata": {},
     "output_type": "execute_result"
    }
   ],
   "source": [
    "df_players.head"
   ]
  },
  {
   "cell_type": "code",
   "execution_count": 17,
   "id": "5bb69da9",
   "metadata": {},
   "outputs": [],
   "source": [
    "df_players = df_players.loc[df_players['person_id'].isin(df_player_stats['player_id'])]"
   ]
  },
  {
   "cell_type": "code",
   "execution_count": 18,
   "id": "6b26584d",
   "metadata": {},
   "outputs": [
    {
     "data": {
      "text/plain": [
       "<bound method NDFrame.head of       person_id display_last_comma_first   display_first_last rosterstatus  \\\n",
       "5           949     Abdur-Rahim, Shareef  Shareef Abdur-Rahim            f   \n",
       "9        203518            Abrines, Alex         Alex Abrines            t   \n",
       "10       101165              Acker, Alex           Alex Acker            f   \n",
       "14       203112              Acy, Quincy           Quincy Acy            t   \n",
       "17       200801            Adams, Hassan         Hassan Adams            f   \n",
       "...         ...                      ...                  ...          ...   \n",
       "4874    1626153            Wright, Delon         Delon Wright            t   \n",
       "4875       2748           Wright, Dorell        Dorell Wright            f   \n",
       "4878     201153           Wright, Julian        Julian Wright            f   \n",
       "4880        953         Wright, Lorenzen      Lorenzen Wright            f   \n",
       "4883     203100             Wroten, Tony          Tony Wroten            f   \n",
       "\n",
       "      from_year  to_year           playercode games_played_flag  \\\n",
       "5        1996.0   2007.0  shareef_abdur-rahim                 Y   \n",
       "9        2016.0   2018.0         alex_abrines                 Y   \n",
       "10       2005.0   2008.0           alex_acker                 Y   \n",
       "14       2012.0   2018.0           quincy_acy                 Y   \n",
       "17       2006.0   2008.0         hassan_adams                 Y   \n",
       "...         ...      ...                  ...               ...   \n",
       "4874     2015.0   2018.0         delon_wright                 Y   \n",
       "4875     2004.0   2015.0        dorell_wright                 Y   \n",
       "4878     2007.0   2010.0        julian_wright                 Y   \n",
       "4880     1996.0   2008.0      lorenzen_wright                 Y   \n",
       "4883     2012.0   2015.0          tony_wroten                 Y   \n",
       "\n",
       "            position  draft_year  ...  birth_date  height_feet  height_inches  \\\n",
       "5            Forward      1996.0  ...         NaN          6.0            9.0   \n",
       "9              Guard      2013.0  ...         NaN          6.0            6.0   \n",
       "10             Guard      2005.0  ...         NaN          6.0            5.0   \n",
       "14           Forward      2012.0  ...         NaN          6.0            7.0   \n",
       "17               NaN      2006.0  ...         NaN          NaN            NaN   \n",
       "...              ...         ...  ...         ...          ...            ...   \n",
       "4874           Guard      2015.0  ...         NaN          6.0            5.0   \n",
       "4875   Forward-Guard      2004.0  ...         NaN          6.0            9.0   \n",
       "4878         Forward      2007.0  ...         NaN          6.0            8.0   \n",
       "4880  Forward-Center      1996.0  ...         NaN          6.0           11.0   \n",
       "4883           Guard      2012.0  ...         NaN          6.0            6.0   \n",
       "\n",
       "        height  weight  season_exp  jersey                school country  \\\n",
       "5     6.750000   245.0          12       3            California     USA   \n",
       "9     6.500000   190.0           2       8                   NaN   Spain   \n",
       "10    6.416667   185.0           2       3            Pepperdine     USA   \n",
       "14    6.583333   240.0           6      13                Baylor     USA   \n",
       "17         NaN     NaN           1     NaN               Arizona     USA   \n",
       "...        ...     ...         ...     ...                   ...     ...   \n",
       "4874  6.416667   190.0           3      55                  Utah     USA   \n",
       "4875  6.750000   205.0          11      11  South Kent Prep (CT)     USA   \n",
       "4878  6.666667   225.0           4      14                Kansas     USA   \n",
       "4880  6.916667   255.0          13      55               Memphis     USA   \n",
       "4883  6.500000   205.0           4       5            Washington     USA   \n",
       "\n",
       "                 last_affiliation  \n",
       "5                  California/USA  \n",
       "9                     Spain/Spain  \n",
       "10                 Pepperdine/USA  \n",
       "14                     Baylor/USA  \n",
       "17                    Arizona/USA  \n",
       "...                           ...  \n",
       "4874                     Utah/USA  \n",
       "4875  South Kent Prep HS (CT)/USA  \n",
       "4878                   Kansas/USA  \n",
       "4880                  Memphis/USA  \n",
       "4883               Washington/USA  \n",
       "\n",
       "[1357 rows x 22 columns]>"
      ]
     },
     "execution_count": 18,
     "metadata": {},
     "output_type": "execute_result"
    }
   ],
   "source": [
    "df_players.head"
   ]
  },
  {
   "cell_type": "code",
   "execution_count": 19,
   "id": "b041b622",
   "metadata": {},
   "outputs": [],
   "source": [
    "df_players.to_csv('nba_players.csv')"
   ]
  },
  {
   "cell_type": "code",
   "execution_count": 20,
   "id": "dd56b5f3",
   "metadata": {},
   "outputs": [
    {
     "data": {
      "text/plain": [
       "1357"
      ]
     },
     "execution_count": 20,
     "metadata": {},
     "output_type": "execute_result"
    }
   ],
   "source": [
    "df_players['person_id'].nunique()"
   ]
  },
  {
   "cell_type": "code",
   "execution_count": 21,
   "id": "4e49b9f4",
   "metadata": {},
   "outputs": [
    {
     "data": {
      "text/plain": [
       "1357"
      ]
     },
     "execution_count": 21,
     "metadata": {},
     "output_type": "execute_result"
    }
   ],
   "source": [
    "df_player_stats['player_id'].nunique()"
   ]
  },
  {
   "cell_type": "code",
   "execution_count": null,
   "id": "1cbbd0b3",
   "metadata": {},
   "outputs": [],
   "source": []
  }
 ],
 "metadata": {
  "kernelspec": {
   "display_name": "Python 3 (ipykernel)",
   "language": "python",
   "name": "python3"
  },
  "language_info": {
   "codemirror_mode": {
    "name": "ipython",
    "version": 3
   },
   "file_extension": ".py",
   "mimetype": "text/x-python",
   "name": "python",
   "nbconvert_exporter": "python",
   "pygments_lexer": "ipython3",
   "version": "3.9.12"
  }
 },
 "nbformat": 4,
 "nbformat_minor": 5
}
